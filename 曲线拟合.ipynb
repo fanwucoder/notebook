{
 "cells": [
  {
   "cell_type": "code",
   "execution_count": 2,
   "metadata": {
    "scrolled": true
   },
   "outputs": [],
   "source": [
    "import matplotlib.pyplot as plt\n",
    "import numpy as np"
   ]
  },
  {
   "cell_type": "code",
   "execution_count": 3,
   "metadata": {},
   "outputs": [],
   "source": [
    "data='''203,5130274\n",
    "207,6343210\n",
    "208,6664676\n",
    "209,6993630\n",
    "210,7330172\n",
    "211,7674400\n",
    "212,8026415\n",
    "215,9130190\n",
    "216,9514365\n",
    "217,9906836\n",
    "230,15811869\n",
    "231,16331640\n",
    "236,19081463\n",
    "237,19662418\n",
    "247,26074274'''"
   ]
  },
  {
   "cell_type": "code",
   "execution_count": 4,
   "metadata": {},
   "outputs": [
    {
     "name": "stdout",
     "output_type": "stream",
     "text": [
      "[203, 207, 208, 209, 210, 211, 212, 215, 216, 217, 230, 231, 236, 237, 247]\n",
      "[5130274, 6343210, 6664676, 6993630, 7330172, 7674400, 8026415, 9130190, 9514365, 9906836, 15811869, 16331640, 19081463, 19662418, 26074274]\n"
     ]
    }
   ],
   "source": [
    "\n",
    "#潘海东,2014/1/13\n",
    "\n",
    "# data='''200,429445\n",
    "# 203,5130274\n",
    "# 207,6343210\n",
    "# 208,6664676\n",
    "# 209,6993630\n",
    "# 210,7330172\n",
    "# 211,7674400\n",
    "# 212,8026415\n",
    "# 215,9130190\n",
    "# 216,9514365\n",
    "# 217,9906836'''\n",
    "x=[]\n",
    "y=[]\n",
    "for line in data.split('\\n'):\n",
    "    xy=line.split(',')\n",
    "    x.append(int(xy[0]))\n",
    "    y.append(int(xy[1]))\n",
    "print x\n",
    "print y"
   ]
  },
  {
   "cell_type": "code",
   "execution_count": 6,
   "metadata": {},
   "outputs": [
    {
     "name": "stdout",
     "output_type": "stream",
     "text": [
      "       3        2\n",
      "18.08 x - 7564 x + 1.126e+06 x - 6.288e+07\n"
     ]
    },
    {
     "data": {
      "image/png": "[encoded data removed]",
      "text/plain": [
       "<matplotlib.figure.Figure at 0x74f4b50>"
      ]
     },
     "metadata": {},
     "output_type": "display_data"
    }
   ],
   "source": [
    "# x = np.arange(1, 17, 1)\n",
    "# y = np.array([4.00, 6.40, 8.00, 8.80, 9.22, 9.50, 9.70, 9.86, 10.00, 10.20, 10.32, 10.42, 10.50, 10.55, 10.58, 10.60])\n",
    "z1 = np.polyfit(x, y, 3)#用3次多项式拟合\n",
    "p1 = np.poly1d(z1)\n",
    "print(p1) #在屏幕上打印拟合多项式\n",
    "yvals=p1(x)#也可以使用yvals=np.polyval(z1,x)\n",
    "plot1=plt.plot(x, y, '*',label='original values')\n",
    "plot2=plt.plot(x, yvals, 'r',label='polyfit values')\n",
    "plt.xlabel('x axis')\n",
    "plt.ylabel('y axis')\n",
    "plt.legend(loc=4)#指定legend的位置,读者可以自己help它的用法\n",
    "plt.title('polyfitting')\n",
    "plt.show()"
   ]
  }
 ],
 "metadata": {
  "kernelspec": {
   "display_name": "Python 2",
   "language": "python",
   "name": "python2"
  },
  "language_info": {
   "codemirror_mode": {
    "name": "ipython",
    "version": 2
   },
   "file_extension": ".py",
   "mimetype": "text/x-python",
   "name": "python",
   "nbconvert_exporter": "python",
   "pygments_lexer": "ipython2",
   "version": "2.7.14"
  }
 },
 "nbformat": 4,
 "nbformat_minor": 2
}
