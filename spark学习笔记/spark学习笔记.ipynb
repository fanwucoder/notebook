{
 "cells": [
  {
   "cell_type": "code",
   "execution_count": 21,
   "metadata": {},
   "outputs": [
    {
     "data": {
      "text/plain": [
       "103"
      ]
     },
     "execution_count": 21,
     "metadata": {},
     "output_type": "execute_result"
    }
   ],
   "source": [
    "# spark 配置好jupyter后，默认有sparkSession和SparkContext对象\n",
    "#读取使用sparkSession读取文本文件，返回一个DataFrame对象\n",
    "textFile=spark.read.text(\"README.md\")\n",
    "#简单计数\n",
    "textFile.count()"
   ]
  },
  {
   "cell_type": "code",
   "execution_count": 24,
   "metadata": {},
   "outputs": [
    {
     "name": "stdout",
     "output_type": "stream",
     "text": [
      "Row(value=u'# Apache Spark')\n"
     ]
    }
   ],
   "source": [
    "print textFile.first()"
   ]
  },
  {
   "cell_type": "code",
   "execution_count": 25,
   "metadata": {},
   "outputs": [
    {
     "data": {
      "text/plain": [
       "DataFrame[value: string]"
      ]
     },
     "execution_count": 25,
     "metadata": {},
     "output_type": "execute_result"
    }
   ],
   "source": [
    "#DataFrame对象\n",
    "textFile"
   ]
  },
  {
   "cell_type": "code",
   "execution_count": 28,
   "metadata": {},
   "outputs": [],
   "source": [
    "lineWithSpark=textFile.filter(textFile.value.contains(\"spark\"))"
   ]
  },
  {
   "cell_type": "code",
   "execution_count": 30,
   "metadata": {},
   "outputs": [
    {
     "data": {
      "text/plain": [
       "13"
      ]
     },
     "execution_count": 30,
     "metadata": {},
     "output_type": "execute_result"
    }
   ],
   "source": [
    "textFile.filter(textFile.value.contains(\"spark\")).count()"
   ]
  },
  {
   "cell_type": "code",
   "execution_count": 38,
   "metadata": {},
   "outputs": [
    {
     "data": {
      "text/plain": [
       "[Row(max(numWords)=22)]"
      ]
     },
     "execution_count": 38,
     "metadata": {},
     "output_type": "execute_result"
    }
   ],
   "source": [
    "from pyspark.sql.functions import *\n",
    "textFile.select(size(split(textFile.value,'\\s+')).name(\"numWords\")).agg(max(col='numWords')).collect()"
   ]
  },
  {
   "cell_type": "code",
   "execution_count": 53,
   "metadata": {},
   "outputs": [],
   "source": [
    "# explode 将给定的数组转换层一个新行\n",
    "wordCounts=textFile.select(explode(split(textFile.value, \"\\s+\")).alias(\"word\")).groupBy(\"word\").count()"
   ]
  },
  {
   "cell_type": "code",
   "execution_count": 55,
   "metadata": {},
   "outputs": [
    {
     "data": {
      "text/plain": [
       "[Row(word=u'online', count=1),\n",
       " Row(word=u'graphs', count=1),\n",
       " Row(word=u'[\"Parallel', count=1),\n",
       " Row(word=u'[\"Building', count=1),\n",
       " Row(word=u'thread', count=1),\n",
       " Row(word=u'documentation', count=3),\n",
       " Row(word=u'command,', count=2),\n",
       " Row(word=u'abbreviated', count=1),\n",
       " Row(word=u'overview', count=1),\n",
       " Row(word=u'rich', count=1),\n",
       " Row(word=u'set', count=2),\n",
       " Row(word=u'-DskipTests', count=1),\n",
       " Row(word=u'name', count=1),\n",
       " Row(word=u'page](http://spark.apache.org/documentation.html).', count=1),\n",
       " Row(word=u'[\"Specifying', count=1),\n",
       " Row(word=u'stream', count=1),\n",
       " Row(word=u'run:', count=1),\n",
       " Row(word=u'not', count=1),\n",
       " Row(word=u'programs', count=2),\n",
       " Row(word=u'tests', count=2),\n",
       " Row(word=u'./dev/run-tests', count=1),\n",
       " Row(word=u'will', count=1),\n",
       " Row(word=u'[run', count=1),\n",
       " Row(word=u'particular', count=2),\n",
       " Row(word=u'option', count=1),\n",
       " Row(word=u'Alternatively,', count=1),\n",
       " Row(word=u'by', count=1),\n",
       " Row(word=u'must', count=1),\n",
       " Row(word=u'using', count=5),\n",
       " Row(word=u'you', count=4),\n",
       " Row(word=u'MLlib', count=1),\n",
       " Row(word=u'DataFrames,', count=1),\n",
       " Row(word=u'variable', count=1),\n",
       " Row(word=u'Note', count=1),\n",
       " Row(word=u'core', count=1),\n",
       " Row(word=u'more', count=1),\n",
       " Row(word=u'protocols', count=1),\n",
       " Row(word=u'guidance', count=2),\n",
       " Row(word=u'shell:', count=2),\n",
       " Row(word=u'can', count=7),\n",
       " Row(word=u'site,', count=1),\n",
       " Row(word=u'systems.', count=1),\n",
       " Row(word=u'Maven', count=1),\n",
       " Row(word=u'[building', count=1),\n",
       " Row(word=u'configure', count=1),\n",
       " Row(word=u'for', count=12),\n",
       " Row(word=u'README', count=1),\n",
       " Row(word=u'Interactive', count=2),\n",
       " Row(word=u'how', count=3),\n",
       " Row(word=u'[Configuration', count=1),\n",
       " Row(word=u'Hive', count=2),\n",
       " Row(word=u'system', count=1),\n",
       " Row(word=u'provides', count=1),\n",
       " Row(word=u'Hadoop-supported', count=1),\n",
       " Row(word=u'pre-built', count=1),\n",
       " Row(word=u'[\"Useful', count=1),\n",
       " Row(word=u'directory.', count=1),\n",
       " Row(word=u'Example', count=1),\n",
       " Row(word=u'example', count=3),\n",
       " Row(word=u'one', count=3),\n",
       " Row(word=u'MASTER', count=1),\n",
       " Row(word=u'in', count=6),\n",
       " Row(word=u'library', count=1),\n",
       " Row(word=u'Spark.', count=1),\n",
       " Row(word=u'contains', count=1),\n",
       " Row(word=u'Configuration', count=1),\n",
       " Row(word=u'programming', count=1),\n",
       " Row(word=u'with', count=4),\n",
       " Row(word=u'contributing', count=1),\n",
       " Row(word=u'downloaded', count=1),\n",
       " Row(word=u'1000).count()', count=1),\n",
       " Row(word=u'comes', count=1),\n",
       " Row(word=u'machine', count=1),\n",
       " Row(word=u'Tools\"](http://spark.apache.org/developer-tools.html).', count=1),\n",
       " Row(word=u'Version\"](http://spark.apache.org/docs/latest/building-spark.html#specifying-the-hadoop-version)', count=1),\n",
       " Row(word=u'building', count=2),\n",
       " Row(word=u'params', count=1),\n",
       " Row(word=u'Guide](http://spark.apache.org/docs/latest/configuration.html)', count=1),\n",
       " Row(word=u'given.', count=1),\n",
       " Row(word=u'be', count=2),\n",
       " Row(word=u'same', count=1),\n",
       " Row(word=u'than', count=1),\n",
       " Row(word=u'Programs', count=1),\n",
       " Row(word=u'locally', count=2),\n",
       " Row(word=u'using:', count=1),\n",
       " Row(word=u'fast', count=1),\n",
       " Row(word=u'[Apache', count=1),\n",
       " Row(word=u'your', count=1),\n",
       " Row(word=u'optimized', count=1),\n",
       " Row(word=u'Developer', count=1),\n",
       " Row(word=u'R,', count=1),\n",
       " Row(word=u'should', count=2),\n",
       " Row(word=u'graph', count=1),\n",
       " Row(word=u'package', count=1),\n",
       " Row(word=u'-T', count=1),\n",
       " Row(word=u'[project', count=1),\n",
       " Row(word=u'project', count=1),\n",
       " Row(word=u'`examples`', count=2),\n",
       " Row(word=u'versions', count=1),\n",
       " Row(word=u'Spark](#building-spark).', count=1),\n",
       " Row(word=u'general', count=3),\n",
       " Row(word=u'other', count=1),\n",
       " Row(word=u'learning,', count=1),\n",
       " Row(word=u'when', count=1),\n",
       " Row(word=u'submit', count=1),\n",
       " Row(word=u'Apache', count=1),\n",
       " Row(word=u'1000:', count=2),\n",
       " Row(word=u'detailed', count=2),\n",
       " Row(word=u'About', count=1),\n",
       " Row(word=u'is', count=6),\n",
       " Row(word=u'on', count=7),\n",
       " Row(word=u'scala>', count=1),\n",
       " Row(word=u'print', count=1),\n",
       " Row(word=u'use', count=3),\n",
       " Row(word=u'different', count=1),\n",
       " Row(word=u'following', count=2),\n",
       " Row(word=u'SparkPi', count=2),\n",
       " Row(word=u'refer', count=2),\n",
       " Row(word=u'./bin/run-example', count=2),\n",
       " Row(word=u'data', count=1),\n",
       " Row(word=u'Tests', count=1),\n",
       " Row(word=u'Versions', count=1),\n",
       " Row(word=u'Data.', count=1),\n",
       " Row(word=u'processing.', count=1),\n",
       " Row(word=u'its', count=1),\n",
       " Row(word=u'basic', count=1),\n",
       " Row(word=u'latest', count=1),\n",
       " Row(word=u'only', count=1),\n",
       " Row(word=u'<class>', count=1),\n",
       " Row(word=u'have', count=1),\n",
       " Row(word=u'runs.', count=1),\n",
       " Row(word=u'You', count=4),\n",
       " Row(word=u'tips,', count=1),\n",
       " Row(word=u'project.', count=1),\n",
       " Row(word=u'developing', count=1),\n",
       " Row(word=u'YARN,', count=1),\n",
       " Row(word=u'It', count=2),\n",
       " Row(word=u'\"local\"', count=1),\n",
       " Row(word=u'processing,', count=1),\n",
       " Row(word=u'built', count=1),\n",
       " Row(word=u'Pi', count=1),\n",
       " Row(word=u'thread,', count=1),\n",
       " Row(word=u'A', count=1),\n",
       " Row(word=u'APIs', count=1),\n",
       " Row(word=u'Scala,', count=1),\n",
       " Row(word=u'file', count=1),\n",
       " Row(word=u'computation', count=1),\n",
       " Row(word=u'Once', count=1),\n",
       " Row(word=u'find', count=1),\n",
       " Row(word=u'the', count=24),\n",
       " Row(word=u'To', count=2),\n",
       " Row(word=u'sc.parallelize(1', count=1),\n",
       " Row(word=u'uses', count=1),\n",
       " Row(word=u'N', count=1),\n",
       " Row(word=u'programs,', count=1),\n",
       " Row(word=u'\"yarn\"', count=1),\n",
       " Row(word=u'see', count=3),\n",
       " Row(word=u'./bin/pyspark', count=1),\n",
       " Row(word=u'return', count=2),\n",
       " Row(word=u'computing', count=1),\n",
       " Row(word=u'Java,', count=1),\n",
       " Row(word=u'from', count=1),\n",
       " Row(word=u'Because', count=1),\n",
       " Row(word=u'cluster', count=2),\n",
       " Row(word=u'Streaming', count=1),\n",
       " Row(word=u'More', count=1),\n",
       " Row(word=u'analysis.', count=1),\n",
       " Row(word=u'Maven](http://maven.apache.org/).', count=1),\n",
       " Row(word=u'cluster.', count=1),\n",
       " Row(word=u'Running', count=1),\n",
       " Row(word=u'Please', count=4),\n",
       " Row(word=u'talk', count=1),\n",
       " Row(word=u'distributions.', count=1),\n",
       " Row(word=u'guide,', count=1),\n",
       " Row(word=u'tests](http://spark.apache.org/developer-tools.html#individual-tests).', count=1),\n",
       " Row(word=u'\"local[N]\"', count=1),\n",
       " Row(word=u'Try', count=1),\n",
       " Row(word=u'and', count=9),\n",
       " Row(word=u'do', count=2),\n",
       " Row(word=u'Scala', count=2),\n",
       " Row(word=u'class', count=2),\n",
       " Row(word=u'build', count=4),\n",
       " Row(word=u'3\"](https://cwiki.apache.org/confluence/display/MAVEN/Parallel+builds+in+Maven+3).', count=1),\n",
       " Row(word=u'setup', count=1),\n",
       " Row(word=u'need', count=1),\n",
       " Row(word=u'spark://', count=1),\n",
       " Row(word=u'Hadoop,', count=2),\n",
       " Row(word=u'Thriftserver', count=1),\n",
       " Row(word=u'are', count=1),\n",
       " Row(word=u'requires', count=1),\n",
       " Row(word=u'package.', count=1),\n",
       " Row(word=u'clean', count=1),\n",
       " Row(word=u'sc.parallelize(range(1000)).count()', count=1),\n",
       " Row(word=u'high-level', count=1),\n",
       " Row(word=u'SQL', count=2),\n",
       " Row(word=u'against', count=1),\n",
       " Row(word=u'of', count=5),\n",
       " Row(word=u'through', count=1),\n",
       " Row(word=u'review', count=1),\n",
       " Row(word=u'package.)', count=1),\n",
       " Row(word=u'Python,', count=2),\n",
       " Row(word=u'easiest', count=1),\n",
       " Row(word=u'no', count=1),\n",
       " Row(word=u'Testing', count=1),\n",
       " Row(word=u'several', count=1),\n",
       " Row(word=u'help', count=1),\n",
       " Row(word=u'The', count=1),\n",
       " Row(word=u'sample', count=1),\n",
       " Row(word=u'MASTER=spark://host:7077', count=1),\n",
       " Row(word=u'Big', count=1),\n",
       " Row(word=u'examples', count=2),\n",
       " Row(word=u'an', count=4),\n",
       " Row(word=u'#', count=1),\n",
       " Row(word=u'Online', count=1),\n",
       " Row(word=u'including', count=4),\n",
       " Row(word=u'usage', count=1),\n",
       " Row(word=u'Python', count=2),\n",
       " Row(word=u'at', count=2),\n",
       " Row(word=u'development', count=1),\n",
       " Row(word=u'Spark\"](http://spark.apache.org/docs/latest/building-spark.html).', count=1),\n",
       " Row(word=u'IDE,', count=1),\n",
       " Row(word=u'way', count=1),\n",
       " Row(word=u'Contributing', count=1),\n",
       " Row(word=u'get', count=1),\n",
       " Row(word=u'that', count=2),\n",
       " Row(word=u'##', count=9),\n",
       " Row(word=u'For', count=3),\n",
       " Row(word=u'prefer', count=1),\n",
       " Row(word=u'This', count=2),\n",
       " Row(word=u'build/mvn', count=1),\n",
       " Row(word=u'builds', count=1),\n",
       " Row(word=u'running', count=1),\n",
       " Row(word=u'web', count=1),\n",
       " Row(word=u'run', count=7),\n",
       " Row(word=u'locally.', count=1),\n",
       " Row(word=u'Spark', count=16),\n",
       " Row(word=u'URL,', count=1),\n",
       " Row(word=u'a', count=8),\n",
       " Row(word=u'higher-level', count=1),\n",
       " Row(word=u'tools', count=1),\n",
       " Row(word=u'if', count=4),\n",
       " Row(word=u'available', count=1),\n",
       " Row(word=u'', count=47),\n",
       " Row(word=u'Documentation', count=1),\n",
       " Row(word=u'this', count=1),\n",
       " Row(word=u'(You', count=1),\n",
       " Row(word=u'>>>', count=1),\n",
       " Row(word=u'information', count=1),\n",
       " Row(word=u'info', count=1),\n",
       " Row(word=u'<http://spark.apache.org/>', count=1),\n",
       " Row(word=u'Shell', count=2),\n",
       " Row(word=u'environment', count=1),\n",
       " Row(word=u'built,', count=1),\n",
       " Row(word=u'module,', count=1),\n",
       " Row(word=u'them,', count=1),\n",
       " Row(word=u'`./bin/run-example', count=1),\n",
       " Row(word=u'instance:', count=1),\n",
       " Row(word=u'first', count=1),\n",
       " Row(word=u'[Contribution', count=1),\n",
       " Row(word=u'guide](http://spark.apache.org/contributing.html)', count=1),\n",
       " Row(word=u'documentation,', count=1),\n",
       " Row(word=u'[params]`.', count=1),\n",
       " Row(word=u'mesos://', count=1),\n",
       " Row(word=u'engine', count=1),\n",
       " Row(word=u'GraphX', count=1),\n",
       " Row(word=u'Maven,', count=1),\n",
       " Row(word=u'example:', count=1),\n",
       " Row(word=u'HDFS', count=1),\n",
       " Row(word=u'or', count=3),\n",
       " Row(word=u'to', count=17),\n",
       " Row(word=u'Hadoop', count=3),\n",
       " Row(word=u'individual', count=1),\n",
       " Row(word=u'also', count=4),\n",
       " Row(word=u'changed', count=1),\n",
       " Row(word=u'started', count=1),\n",
       " Row(word=u'./bin/spark-shell', count=1),\n",
       " Row(word=u'threads.', count=1),\n",
       " Row(word=u'supports', count=2),\n",
       " Row(word=u'storage', count=1),\n",
       " Row(word=u'version', count=1),\n",
       " Row(word=u'instructions.', count=1),\n",
       " Row(word=u'Building', count=1),\n",
       " Row(word=u'start', count=1),\n",
       " Row(word=u'Many', count=1),\n",
       " Row(word=u'which', count=2),\n",
       " Row(word=u'And', count=1),\n",
       " Row(word=u'distribution', count=1)]"
      ]
     },
     "execution_count": 55,
     "metadata": {},
     "output_type": "execute_result"
    }
   ],
   "source": [
    "wordCounts.collect()"
   ]
  },
  {
   "cell_type": "code",
   "execution_count": 57,
   "metadata": {},
   "outputs": [
    {
     "data": {
      "text/plain": [
       "DataFrame[value: string]"
      ]
     },
     "execution_count": 57,
     "metadata": {},
     "output_type": "execute_result"
    }
   ],
   "source": [
    "lineWithSpark.cache()"
   ]
  },
  {
   "cell_type": "code",
   "execution_count": 59,
   "metadata": {},
   "outputs": [
    {
     "data": {
      "text/plain": [
       "13"
      ]
     },
     "execution_count": 59,
     "metadata": {},
     "output_type": "execute_result"
    }
   ],
   "source": [
    "lineWithSpark.count()"
   ]
  },
  {
   "cell_type": "code",
   "execution_count": 60,
   "metadata": {},
   "outputs": [
    {
     "data": {
      "text/plain": [
       "13"
      ]
     },
     "execution_count": 60,
     "metadata": {},
     "output_type": "execute_result"
    }
   ],
   "source": [
    "lineWithSpark.count()"
   ]
  }
 ],
 "metadata": {
  "kernelspec": {
   "display_name": "Python 2",
   "language": "python",
   "name": "python2"
  },
  "language_info": {
   "codemirror_mode": {
    "name": "ipython",
    "version": 2
   },
   "file_extension": ".py",
   "mimetype": "text/x-python",
   "name": "python",
   "nbconvert_exporter": "python",
   "pygments_lexer": "ipython2",
   "version": "2.7.13"
  }
 },
 "nbformat": 4,
 "nbformat_minor": 2
}
