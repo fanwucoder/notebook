{
 "cells": [
  {
   "cell_type": "code",
   "execution_count": 1,
   "metadata": {},
   "outputs": [
    {
     "name": "stdout",
     "output_type": "stream",
     "text": [
      "2017-09-07 08:00:00\n",
      "2017-09-08 08:00:00\n",
      "2017-09-07 08:00:00 2017-09-08 08:00:00\n"
     ]
    }
   ],
   "source": [
    "# -*- coding: utf-8 -*-  \n",
    "import datetime\n",
    "# import sys\n",
    "# reload(sys)\n",
    "# sys.setdefaultencoding('gbk') \n",
    "#过滤指定时间段的数据\n",
    "```\n",
    "简单数据处理,读取目标文件,然和筛选指定日期的数据,最后再和另一张表做连接,最后分组统计\n",
    "```\n",
    "begin_date=datetime.datetime.strptime(\"2017-09-07 08:00:00\", '%Y-%m-%d %H:%M:%S')\n",
    "\n",
    "delta=datetime.timedelta(days=1)\n",
    "end_date=begin_date+delta\n",
    "# begin_date=\"2017-09-20 08:00:00\"\n",
    "# end_date=\"2017-09-21 08:00:00\"\n",
    "print begin_date\n",
    "print end_date\n",
    "print \"%s %s\"%(begin_date,end_date)"
   ]
  },
  {
   "cell_type": "code",
   "execution_count": 2,
   "metadata": {},
   "outputs": [],
   "source": [
    "# url =\"jdbc:mysql://127.0.0.1:3306/jhgj?serverTimezone=UTC\"  \n",
    "# db_table = \"pms_excel_commondata\"  \n",
    "# db_user=\"root\"\n",
    "# db_passwd=\"123456\"\n",
    "# def readTable(table):\n",
    "#     # df = sqlContext.read.option(\"url\", url)\\\n",
    "#     # .option(\"dbtable\", table)\\\n",
    "#     # .option('user', \"root\")\\\n",
    "#     # .option('Parquet','jhgj')\\\n",
    "#     # .option('password', \"123456\")\\\n",
    "#     # .load()\n",
    "#     return sqlContext.read.jdbc(url=url,table=table,properties={'user':db_user,'password':db_passwd,'driver':'com.mysql.jdbc.Driver'})"
   ]
  },
  {
   "cell_type": "code",
   "execution_count": 3,
   "metadata": {
    "scrolled": true
   },
   "outputs": [],
   "source": [
    "#读取出入库数据\n",
    "warsDf = spark.read.csv(\"res/spark/2017-09-21_001_crkb.csv\",encoding=\"utf-8\",header=True,sep='\\t')"
   ]
  },
  {
   "cell_type": "code",
   "execution_count": 4,
   "metadata": {},
   "outputs": [
    {
     "name": "stdout",
     "output_type": "stream",
     "text": [
      "+---+-----------+--------+\n",
      "| id|SAP_BJ_CODE| CR_TEXT|\n",
      "+---+-----------+--------+\n",
      "|  1|60065710201|GD交货销售订单|\n",
      "|  2|60065720201|GD交货销售订单|\n",
      "+---+-----------+--------+\n",
      "only showing top 2 rows\n",
      "\n",
      "root\n",
      " |-- id: string (nullable = true)\n",
      " |-- SAP_BJ_CODE: string (nullable = true)\n",
      " |-- CR_TEXT: string (nullable = true)\n",
      "\n",
      "+--------+--------+---------+-----------+--------+\n",
      "|CELLNAME|CELLTYPE|CELLINDEX|   CELLCODE|EXCEL_ID|\n",
      "+--------+--------+---------+-----------+--------+\n",
      "| 系统包件订单号|  STRING|        7|BJ_ORDERNUM|       2|\n",
      "|    计划数量|     INT|       11|    PLANNUM|       2|\n",
      "+--------+--------+---------+-----------+--------+\n",
      "only showing top 2 rows\n",
      "\n",
      "root\n",
      " |-- CELLNAME: string (nullable = true)\n",
      " |-- CELLTYPE: string (nullable = true)\n",
      " |-- CELLINDEX: string (nullable = true)\n",
      " |-- CELLCODE: string (nullable = true)\n",
      " |-- EXCEL_ID: string (nullable = true)\n",
      "\n"
     ]
    }
   ],
   "source": [
    "#读取白名单数据\n",
    "whiteDf=spark.read.csv(\"res/spark/PMS_CRTEXT_WHITE_LIST.csv\",encoding=\"utf-8\",header=True,sep=',',quote='\"')\n",
    "whiteDf.show(2)\n",
    "whiteDf.printSchema()\n",
    "# 读取字段映射\n",
    "colMap=spark.read.csv(\"res/spark/PMS_EXCEL_COMMONDATA.csv\",encoding=\"utf-8\",header=True,sep=',',quote='\"')\n",
    "colMap.show(2)\n",
    "colMap.printSchema()"
   ]
  },
  {
   "cell_type": "code",
   "execution_count": 5,
   "metadata": {},
   "outputs": [
    {
     "name": "stdout",
     "output_type": "stream",
     "text": [
      "库存地点描述 CKMARK\n",
      "输入日期 CRDATE\n",
      "移动类型文本 CRFLAG\n",
      "数量 CRNUM\n",
      "输入时间 CRTIME\n",
      "供应商 FACTORY\n",
      "抬头文本 HEAD_TEXT\n",
      "物料 SAP_BJ_CODE\n",
      "收货库存地点描述 SHCKMARK\n"
     ]
    }
   ],
   "source": [
    "cols=colMap.filter(colMap.EXCEL_ID==11).collect()\n",
    "rows=cols\n",
    "for row in rows:\n",
    "    rowName=row[\"CELLNAME\"]\n",
    "    rowCode=row[\"CELLCODE\"]\n",
    "    print rowName,rowCode\n",
    "    warsDf=warsDf.withColumnRenamed(rowName,rowCode)"
   ]
  },
  {
   "cell_type": "code",
   "execution_count": 6,
   "metadata": {},
   "outputs": [
    {
     "name": "stdout",
     "output_type": "stream",
     "text": [
      "root\n",
      " |-- 物料凭证: string (nullable = true)\n",
      " |-- SAP_BJ_CODE: string (nullable = true)\n",
      " |-- 物料描述: string (nullable = true)\n",
      " |-- 移动类型: string (nullable = true)\n",
      " |-- CRFLAG: string (nullable = true)\n",
      " |-- CKMARK: string (nullable = true)\n",
      " |-- SHCKMARK: string (nullable = true)\n",
      " |-- CRTIME: string (nullable = true)\n",
      " |-- 工厂: string (nullable = true)\n",
      " |-- 单位文本: string (nullable = true)\n",
      " |-- HEAD_TEXT: string (nullable = true)\n",
      " |-- 资产: string (nullable = true)\n",
      " |-- 原因: string (nullable = true)\n",
      " |-- 订单: string (nullable = true)\n",
      " |-- 预留: string (nullable = true)\n",
      " |-- 名称 1: string (nullable = true)\n",
      " |-- 移动原因描述: string (nullable = true)\n",
      " |-- 客户: string (nullable = true)\n",
      " |-- 客户名称: string (nullable = true)\n",
      " |-- FACTORY: string (nullable = true)\n",
      " |-- 名称: string (nullable = true)\n",
      " |-- CRNUM: string (nullable = true)\n",
      " |-- CRDATE: string (nullable = true)\n",
      " |-- str_time: string (nullable = false)\n",
      " |-- date_time: timestamp (nullable = true)\n",
      "\n"
     ]
    }
   ],
   "source": [
    "from pyspark.sql.functions import *\n",
    "warsDf=warsDf.withColumn(\"str_time\",concat_ws(\" \",warsDf.CRDATE,warsDf.CRTIME))\n",
    "#日期转换,spark2.2可用\n",
    "warsDf=warsDf.withColumn(\"date_time\",to_timestamp(\"str_time\",\"yyyy-MM-dd HH:mm:ss\"))\n",
    "warsDf.printSchema()"
   ]
  },
  {
   "cell_type": "code",
   "execution_count": 7,
   "metadata": {},
   "outputs": [],
   "source": [
    "warsDf=warsDf.orderBy(desc(\"date_time\")).filter(\"date_time >='%s' and date_time<'%s'\"%(begin_date,end_date) )\n"
   ]
  },
  {
   "cell_type": "code",
   "execution_count": 19,
   "metadata": {},
   "outputs": [
    {
     "name": "stdout",
     "output_type": "stream",
     "text": [
      "root\n",
      " |-- VALUEID: string (nullable = true)\n",
      " |-- VALUENAME: string (nullable = true)\n",
      " |-- TYPE_ID: string (nullable = true)\n",
      " |-- TYPENAME: string (nullable = true)\n",
      " |-- GOODFLAG: string (nullable = true)\n",
      " |-- _c5: string (nullable = true)\n",
      " |-- _c6: string (nullable = true)\n",
      " |-- _c7: string (nullable = true)\n",
      "\n",
      "+-------+----------+-------+--------+--------+----+----+----+\n",
      "|VALUEID| VALUENAME|TYPE_ID|TYPENAME|GOODFLAG| _c5| _c6| _c7|\n",
      "+-------+----------+-------+--------+--------+----+----+----+\n",
      "|      1|有关销售订单库存收货|      4|      入汇|       1|null|null|null|\n",
      "|      2|   寄售库存的收货|      1|      入汇|       1|null|null|null|\n",
      "|      3|   采购订单的收货|      1|      入汇|       1|null|null|null|\n",
      "+-------+----------+-------+--------+--------+----+----+----+\n",
      "only showing top 3 rows\n",
      "\n"
     ]
    }
   ],
   "source": [
    "crtyp=spark.read.csv(\"res/spark/PMS_CR_TYPE_DECTIONAL.csv\",encoding=\"utf-8\",header=True,sep=',',quote='\"')\n",
    "crtyp.printSchema()\n",
    "crtyp.show(3)"
   ]
  },
  {
   "cell_type": "code",
   "execution_count": 21,
   "metadata": {},
   "outputs": [
    {
     "name": "stdout",
     "output_type": "stream",
     "text": [
      "+----------+-----------+--------------------+----+-------+---------+--------+--------+----+----+---------+----+----+----+----------+------+-----------+----+----+-------+----+------+----------+-------------------+-------------------+-------+---------+-------+--------+--------+----+----+----+\n",
      "|      物料凭证|SAP_BJ_CODE|                物料描述|移动类型| CRFLAG|   CKMARK|SHCKMARK|  CRTIME|  工厂|单位文本|HEAD_TEXT|  资产|  原因|  订单|        预留|  名称 1|     移动原因描述|  客户|客户名称|FACTORY|  名称| CRNUM|    CRDATE|           str_time|          date_time|VALUEID|VALUENAME|TYPE_ID|TYPENAME|GOODFLAG| _c5| _c6| _c7|\n",
      "+----------+-----------+--------------------+----+-------+---------+--------+--------+----+----+---------+----+----+----+----------+------+-----------+----+----+-------+----+------+----------+-------------------+-------------------+-------+---------+-------+--------+--------+----+----+----+\n",
      "|5004707447|66031181701|60311H青少年书桌架B266B...| X03|成品库采购入库|物流工业园库存地点|    null|07:58:08|6810|   包|     null|null|6332|null|0000000000|销售公司工厂|餐桌椅家具实木三厂B线|null|null|8800010|实木公司| 3.000|2017-09-08|2017-09-08 07:58:08|2017-09-08 07:58:08|      8|  成品库采购入库|      1|      入汇|       1|null|null|null|\n",
      "|5004707447|66031181703|60311H青少年书桌架B266B...| X03|成品库采购入库|物流工业园库存地点|    null|07:58:08|6810|   包|     null|null|6332|null|0000000000|销售公司工厂|餐桌椅家具实木三厂B线|null|null|8800010|实木公司|11.000|2017-09-08|2017-09-08 07:58:08|2017-09-08 07:58:08|      8|  成品库采购入库|      1|      入汇|       1|null|null|null|\n",
      "+----------+-----------+--------------------+----+-------+---------+--------+--------+----+----+---------+----+----+----+----------+------+-----------+----+----+-------+----+------+----------+-------------------+-------------------+-------+---------+-------+--------+--------+----+----+----+\n",
      "only showing top 2 rows\n",
      "\n"
     ]
    }
   ],
   "source": [
    "# df=readTable(\"pms_excel_commondata\")\n",
    "joinDf=warsDf.join(crtyp,crtyp.VALUENAME==warsDf.CRFLAG,\"left\")\n",
    "joinDf.show(2)"
   ]
  },
  {
   "cell_type": "code",
   "execution_count": 22,
   "metadata": {
    "scrolled": true
   },
   "outputs": [
    {
     "name": "stdout",
     "output_type": "stream",
     "text": [
      "root\n",
      " |-- 物料凭证: string (nullable = true)\n",
      " |-- SAP_BJ_CODE: string (nullable = true)\n",
      " |-- 物料描述: string (nullable = true)\n",
      " |-- 移动类型: string (nullable = true)\n",
      " |-- CRFLAG: string (nullable = true)\n",
      " |-- CKMARK: string (nullable = true)\n",
      " |-- SHCKMARK: string (nullable = true)\n",
      " |-- CRTIME: string (nullable = true)\n",
      " |-- 工厂: string (nullable = true)\n",
      " |-- 单位文本: string (nullable = true)\n",
      " |-- HEAD_TEXT: string (nullable = true)\n",
      " |-- 资产: string (nullable = true)\n",
      " |-- 原因: string (nullable = true)\n",
      " |-- 订单: string (nullable = true)\n",
      " |-- 预留: string (nullable = true)\n",
      " |-- 名称 1: string (nullable = true)\n",
      " |-- 移动原因描述: string (nullable = true)\n",
      " |-- 客户: string (nullable = true)\n",
      " |-- 客户名称: string (nullable = true)\n",
      " |-- FACTORY: string (nullable = true)\n",
      " |-- 名称: string (nullable = true)\n",
      " |-- CRNUM: string (nullable = true)\n",
      " |-- CRDATE: string (nullable = true)\n",
      " |-- str_time: string (nullable = false)\n",
      " |-- date_time: timestamp (nullable = true)\n",
      " |-- VALUEID: string (nullable = true)\n",
      " |-- VALUENAME: string (nullable = true)\n",
      " |-- TYPE_ID: string (nullable = true)\n",
      " |-- TYPENAME: string (nullable = true)\n",
      " |-- GOODFLAG: string (nullable = true)\n",
      " |-- _c5: string (nullable = true)\n",
      " |-- _c6: string (nullable = true)\n",
      " |-- _c7: string (nullable = true)\n",
      "\n"
     ]
    }
   ],
   "source": [
    "joinDf.printSchema()\n",
    "df=joinDf.select(\"SAP_BJ_CODE\",\"CRNUM\",\"TYPENAME\")\n",
    "# theader.show()"
   ]
  },
  {
   "cell_type": "code",
   "execution_count": 12,
   "metadata": {},
   "outputs": [],
   "source": [
    "crdate=begin_date.strftime(\"%Y-%m-%d\")\n",
    "crdate\n",
    "df.registerTempTable(\"crData\")\n",
    "spark.sql(\"select t.*,'%s' as CRDATE from crData  t\"%crdate).registerTempTable(\"crData1\")"
   ]
  },
  {
   "cell_type": "code",
   "execution_count": 26,
   "metadata": {},
   "outputs": [
    {
     "data": {
      "text/plain": [
       "DataFrame[summary: string, SAP_BJ_CODE: string, CRNUM: string, TYPENAME: string]"
      ]
     },
     "execution_count": 26,
     "metadata": {},
     "output_type": "execute_result"
    }
   ],
   "source": [
    "data1=spark.sql(\"select t.SAP_BJ_CODE,sum(t.CRNUM)as CRNUM,t.TYPENAME from crData1 t group by t.SAP_BJ_CODE,t.TYPENAME,t.CRDATE\")\n",
    "data1.describe()"
   ]
  },
  {
   "cell_type": "code",
   "execution_count": 30,
   "metadata": {},
   "outputs": [
    {
     "data": {
      "text/plain": [
       "13130"
      ]
     },
     "execution_count": 30,
     "metadata": {},
     "output_type": "execute_result"
    }
   ],
   "source": [
    "data1.where(\"TYPENAME IS NULL\").count()\n",
    "data1.count()"
   ]
  }
 ],
 "metadata": {
  "kernelspec": {
   "display_name": "Python 2",
   "language": "python",
   "name": "python2"
  },
  "language_info": {
   "codemirror_mode": {
    "name": "ipython",
    "version": 2
   },
   "file_extension": ".py",
   "mimetype": "text/x-python",
   "name": "python",
   "nbconvert_exporter": "python",
   "pygments_lexer": "ipython2",
   "version": "2.7.14"
  }
 },
 "nbformat": 4,
 "nbformat_minor": 2
}
