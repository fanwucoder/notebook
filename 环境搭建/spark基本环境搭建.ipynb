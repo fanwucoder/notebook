{
 "cells": [
  {
   "cell_type": "markdown",
   "metadata": {},
   "source": [
    "# spark+jupyter windows 环境搭建\n",
    "\n",
    "## 软件安装\n",
    "\n",
    "+ python2.7.4 直接安装即可,记得将python.exe加入path中,路径:C:\\Python27\n",
    "+ spark-2.2.0-bin-hadoop2.7 下载解压备用 路径:C:\\spark-2.2.0-bin-hadoop2.7\n",
    "+ hadoop-2.6.5 下载解压备用 C:\\hadoop-2.6.5 \n",
    "+ winutils-master 下载解压备用,地址:https://github.com/steveloughran/winutils\n",
    "+ 下载jdk8,并配置环境变量,这个请自行百度\n",
    "+ 下载get-pip.py https://pip.pypa.io/en/stable/installing/\n",
    "\n",
    "## 软件安装\n",
    "    \n",
    "+ 安装pip\n",
    "\n",
    ">执行 python get-pip.py , 安装成功后显示如下\n",
    "![title](spark_env/pip_install.png)"
   ]
  },
  {
   "cell_type": "markdown",
   "metadata": {},
   "source": [
    "+ 安装 jupyter\n",
    "\n",
    ">执行命令 pip install jupyter,安装成功图片\n",
    "\n",
    "![title](spark_env/jupyter_install.png) \n",
    "\n",
    "\n",
    "\n",
    "安装好了之后,运行命令\n",
    "启动jupyter,弹出浏览器如下:\n",
    "<code>\n",
    "jupyter notebook\n",
    "</code>\n",
    "![title](spark_env/jupyter_ok.png)\n",
    "\n",
    "+ 配置hadoop\n",
    "\n",
    ">解压winutils-master,拷贝hadoop-2.6.4目录中2.7.1的bin到hadoop中的bin,覆盖即可,spark单独运行不需要hadoop\n",
    "\n",
    "+ 配置环境变量\n",
    "\n",
    "``` bat\n",
    "\n",
    "SPARK_HOME\n",
    "C:\\spark-2.2.0-bin-hadoop2.7\n",
    "\n",
    "HADOOP_HOME\n",
    "C:\\hadoop-2.6.5\n",
    "\n",
    "PYSPARK_DRIVER_PYTHON\n",
    "jupyter\n",
    "\n",
    "PYSPARK_DRIVER_PYTHON_OPTS\n",
    "notebook\n",
    "\n",
    "//PATH 中添加,路径间通过分号分割\n",
    "%SPARK_HOME%\\bin;%HADOOP_HOME%\\bin\n",
    "//创建notebook目录\n",
    "C:\\>mkdir notebook\n",
    "//进入notebook\n",
    "C:\\>cd notebook\n",
    "```\n",
    "新建目录C:\\tmp\\hive\n",
    "\n",
    "在命令行执行:winutils.exe chmod 777 -R C:\\tmp\\hive\n",
    "\n",
    "运行命令:\n",
    "```bat\n",
    "pyspark\n",
    "```\n",
    "执行sc,ctrl+enter,效果如下\n",
    "![title](spark_env/sc_ok.png)\n",
    "\n",
    "执行spark,ctrl+enter,效果如下\n",
    "![title](spark_env/spark_ok.png)"
   ]
  },
  {
   "cell_type": "markdown",
   "metadata": {},
   "source": []
  }
 ],
 "metadata": {
  "kernelspec": {
   "display_name": "Python 2",
   "language": "python",
   "name": "python2"
  },
  "language_info": {
   "codemirror_mode": {
    "name": "ipython",
    "version": 2
   },
   "file_extension": ".py",
   "mimetype": "text/x-python",
   "name": "python",
   "nbconvert_exporter": "python",
   "pygments_lexer": "ipython2",
   "version": "2.7.14"
  }
 },
 "nbformat": 4,
 "nbformat_minor": 2
}
