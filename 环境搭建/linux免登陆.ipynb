{
 "cells": [
  {
   "cell_type": "markdown",
   "metadata": {},
   "source": [
    "# linux 免密码登录\n",
    "\n",
    "原理:\n",
    "\n",
    "    linux免登陆是通过ssh认证机制,通过ssh证书认证,实现免密码登录\n",
    "    \n",
    "## 生成认证证书\n",
    "   \n",
    "    fanwu@ubuntu:~$ ssh-keygen  -t rsa\n",
    "    \n",
    "    直接一路下一步即可\n",
    "    \n",
    "![证书生成的图片](genkey.png)\n",
    "\n",
    "进入证书生成的目录:\n",
    "fanwu@ubuntu:~/.ssh$ cd ~/.ssh/\n",
    "生成认证文件\n",
    "fanwu@ubuntu:~/.ssh$ cat id_rsa.pub >authorized_keys \n",
    "\n",
    "将.ssh文件拷贝到另外一台电脑上\n",
    "\n",
    "fanwu@ubuntu:~$ scp -rf .ssh fanwu@slave1:~/ssh1\n",
    "登录另外一台电脑\n",
    "fanwu@ubuntu:~$ ssh slave2\n",
    "登录成功\n",
    "![证书生成的图片](loginok.png)\n",
    "\n",
    "### 理解和说明\n",
    "\n",
    "1.免密码登录时通过非对称加密实现的,基于rsa的公钥认证系统中,通过将客户端的公钥添加到服务器的~/.ssh/authorized_keys文件中,就可以实现免密码登录,不过这里有一个权限的问题,.ssh目录权限700,.ssh/id_rsa 600,\n",
    "这里为了方便,我直接将服务端的.ssh目录拷贝到客户机,两者都是同样的秘钥,实现了公钥登录"
   ]
  }
 ],
 "metadata": {
  "kernelspec": {
   "display_name": "Python 2",
   "language": "python",
   "name": "python2"
  },
  "language_info": {
   "codemirror_mode": {
    "name": "ipython",
    "version": 2
   },
   "file_extension": ".py",
   "mimetype": "text/x-python",
   "name": "python",
   "nbconvert_exporter": "python",
   "pygments_lexer": "ipython2",
   "version": "2.7.14"
  }
 },
 "nbformat": 4,
 "nbformat_minor": 2
}
