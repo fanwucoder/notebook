{
 "cells": [
  {
   "cell_type": "markdown",
   "metadata": {},
   "source": [
    "# 发现问题，并且持续跟进问题\n",
    "\n",
    "\n",
    "> 作为项目的实际领导者，必须指定项目的进度和情况，并别持续的发现项目的问题和跟进项目的进度，督促团队成员及时的完成项目\n",
    "\n",
    "> 对于项目中出现的问题，要责任落实到人，谁的问题谁解决，一定要跟进问题，直到问题解决为止\n",
    "\n",
    "> 对于项目中问题，对于影响项目问题的东西，一定要有一个合理决断，没有对与错，必须有一个人决断\n"
   ]
  }
 ],
 "metadata": {
  "kernelspec": {
   "display_name": "Python 2",
   "language": "python",
   "name": "python2"
  },
  "language_info": {
   "codemirror_mode": {
    "name": "ipython",
    "version": 2
   },
   "file_extension": ".py",
   "mimetype": "text/x-python",
   "name": "python",
   "nbconvert_exporter": "python",
   "pygments_lexer": "ipython2",
   "version": "2.7.13"
  }
 },
 "nbformat": 4,
 "nbformat_minor": 2
}
