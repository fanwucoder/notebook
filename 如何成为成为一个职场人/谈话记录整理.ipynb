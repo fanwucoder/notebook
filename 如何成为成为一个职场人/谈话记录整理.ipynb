{
 "cells": [
  {
   "cell_type": "markdown",
   "metadata": {},
   "source": [
    "# 自身的瓶颈\n",
    "\n",
    "1.缺乏对自己的信心,做事没有勇气和魄力\n",
    "2.没有足够的沉淀,来完善和积累自身做事的能力,做事还是有些毛躁和急迫\n",
    "3.没有正视自己错误的信心和勇气\n",
    "\n",
    "\n",
    "# 为什么离职\n",
    "\n",
    "1.项目小组的未来都是不确定的,项目是数据运营组,本身项目还未上线,我已经在这里呆了一年了,明年是否会上大数据,不确定.\n",
    "2.自身无法决定项目中会做什么.我的主要方向是java,而现在大数据还未上马,主要是做一些额外的工作,充满不确定性,自己也没有能力决定,会被安排到其它各种事情上面去,对自己的长期打算不符合.\n",
    "3.基于上面的原因,在这个项目组里面待下去,更多的可能是荒废自己,所以选择裸辞,然后开始找工作\n",
    "\n",
    "# 自身的发展方向\n",
    "\n",
    "1.选择java后台方向作为职业的发展,行业热度和自身的知识和技能决定的.\n",
    "2.沉淀下来积极的工作,增加自己的职业信心和职业积累\n",
    "3.求职不要自尊心作祟,以自身沉淀为主,其它的不要太离谱就行了\n",
    "4.勇敢的向前迈出,做事情的时候充满自信\n"
   ]
  }
 ],
 "metadata": {
  "kernelspec": {
   "display_name": "Python 2",
   "language": "python",
   "name": "python2"
  },
  "language_info": {
   "codemirror_mode": {
    "name": "ipython",
    "version": 2
   },
   "file_extension": ".py",
   "mimetype": "text/x-python",
   "name": "python",
   "nbconvert_exporter": "python",
   "pygments_lexer": "ipython2",
   "version": "2.7.13"
  }
 },
 "nbformat": 4,
 "nbformat_minor": 2
}
