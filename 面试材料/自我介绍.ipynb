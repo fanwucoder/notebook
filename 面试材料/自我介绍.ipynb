{
 "cells": [
  {
   "cell_type": "markdown",
   "metadata": {},
   "source": [
    "    老师，你好。我叫凡伍，毕业于成都信息工程大学计算机系。今天我是来应聘java开发工程师的岗位。下面我从技术、项目、个人发展三个方面来介绍自己：\n",
    "技术方面：熟练掌握java和android开发，熟悉java常用设计模式和框架，比如spring mvc，mybatis等，对于前端开发有一定的经验。\n",
    "对于单元测试比较熟悉，比如常用框架mokio，junit。数据库方面比较熟悉mysql和oralce，熟悉linux系统操作，熟练英文文档阅读能力，熟悉python开发，掌握常用的开发和项目构建管理工具eclipse，git，maven等。\n",
    "\n",
    "项目方面：我就介绍最近两个项目吧，一个是全友家居微信终端看板系统，通过对原始数据的抽取，转换，清洗之后，计算业务指标，提供给公司运营团队做参考。我是项目的技术负责人，主要负责协调项目的开发和帮助同事解决技术困难以及项目的部分功能开发等。计划工具项目，项目旨在打通公司的计划链体系，实现生产，计划，采购等部门的信息互通，信息的及时反馈，及时调整生产计划等。解决生产计划中的计划不合理，商品库存不合理，缺货严重等问题。主要负责将计划体系的计划，库存，供需等信息接入系统，实现缺货的及时反馈，计划的及时调整等。\n",
    "\n",
    "个人爱好：比较喜欢技术，喜欢看博客和浏览github等网站，比如:最近正在学习spark和hadoop。有较强的自学能力，能快速上手新技术。平时也喜欢看书，出去旅游。\n",
    "我的情况大致就是这样，谢谢。"
   ]
  }
 ],
 "metadata": {
  "kernelspec": {
   "display_name": "Python 2",
   "language": "python",
   "name": "python2"
  },
  "language_info": {
   "codemirror_mode": {
    "name": "ipython",
    "version": 2
   },
   "file_extension": ".py",
   "mimetype": "text/x-python",
   "name": "python",
   "nbconvert_exporter": "python",
   "pygments_lexer": "ipython2",
   "version": "2.7.13"
  }
 },
 "nbformat": 4,
 "nbformat_minor": 2
}
