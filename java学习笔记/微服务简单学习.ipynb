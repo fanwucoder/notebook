{
 "cells": [
  {
   "cell_type": "markdown",
   "metadata": {},
   "source": [
    "# 微服务的简单了解\n",
    "\n",
    "1.什么是微服务\n",
    "    微服务架构模式（Microservices Architecture Pattern）的目的是将大型的、复杂的、长期运行的应用程序构建为一组相互配合的服务，每个服务都可以很容易得局部改良。 Micro这个词意味着每个服务都应该足够小，但是，这里的小不能用代码量来比较，而应该是从业务逻辑上比较——符合SRP原则的才叫微服务.说得直白一点,就是将一个大的项目拆分成单独的小项目,每个小的项目运行在独立的进程中,隔离相互依赖和耦合,方便升级与维护.\n",
    "    \n",
    "2.自己上代码\n",
    "\n",
    "微服务提供者:\n",
    "```java\n",
    "    @GetMapping(\"/{id}\")\n",
    "    public User findById(@PathVariable Long id) {\n",
    "        User findOne = userRepository.findOne(id);\n",
    "        return findOne;\n",
    "    }\n",
    "\n",
    "```\n",
    "\n",
    "微服务消费者\n",
    "\n",
    "```java\n",
    "  @GetMapping(\"/user/{id}\")\n",
    "    public User findById(@PathVariable Long id) {\n",
    "        return this.restTemplate.getForObject(\"http://localhost:8000/\" + id, User.class);\n",
    "    }\n",
    "```\n",
    "上面微服务提供者提过了一个http接口,返回json数据,下面的微服务消费者使用这个接口获取数据.说的最直接一点就是通过http(也可能是其它协议)的跨进程通信.通过进程隔离,隔离了模块的相互依赖和影响.\n",
    "\n",
    "由此也衍生了一系列的问题,如:高可用,如何的发现与注册,不可能像这里一样硬编码,微服务的监控等等一系列技术.后面有机会展开详谈\n"
   ]
  }
 ],
 "metadata": {
  "kernelspec": {
   "display_name": "Python 2",
   "language": "python",
   "name": "python2"
  },
  "language_info": {
   "codemirror_mode": {
    "name": "ipython",
    "version": 2
   },
   "file_extension": ".py",
   "mimetype": "text/x-python",
   "name": "python",
   "nbconvert_exporter": "python",
   "pygments_lexer": "ipython2",
   "version": "2.7.13"
  }
 },
 "nbformat": 4,
 "nbformat_minor": 2
}
