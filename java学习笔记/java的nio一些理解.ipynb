{
 "cells": [
  {
   "cell_type": "markdown",
   "metadata": {},
   "source": [
    "# 针对文件读写\n",
    "\n",
    ">在关于文件读写的时候,java nio提供了MappedByteBuffer,直接将文件映射到了应用可以访问的内存中,加快了文件读写的效率.在传统的io流中读写文件时,操作系统首先将文件读取到内核buffer中,然后jvm在读取到io流的buffer中,比较繁琐.\n",
    "\n",
    "\n",
    "# 针对socket编程\n",
    "\n",
    ">提供了非阻塞的io模型,能够在单线程中处理socket的连接,数据读写等事件,基于异步编程的模式,避免了传统的阻塞式的线程模型,每一个连接必须有一个线程的挂起等待,浪费资源.适合有大量请求,但是读写数据量都较小的环境中,比如聊天服务器.但是,如果大量的数据读写,连接请求较少的话,阻塞式反而可能更好.\n",
    "\n",
    "# 几点区分\n",
    "\n",
    "+ 面向流与面向缓冲\n",
    "\n",
    ">nio面向缓冲意味着可以重复访问之前访问过的数据,需要应用程序自己判断数据的边界,以防数据没有读取完整,无法处理.\n",
    "\n",
    "+ 阻塞与非阻塞IO\n",
    "\n",
    ">nio非阻塞式,当没有数据到来的时候,完全可以处理别的事情,不过我觉得应该不会有人这么做吧.\n",
    "\n",
    "\n",
    "+ 选择器（Selectors）\n",
    "\n",
    ">选择器基于事件的异步响应方式,能够节省cpu资源,简化编程方式.\n",
    "\n",
    "参考文献:\n",
    "\n",
    ">[Java NIO和IO的区别](http://www.jb51.net/article/50621.htm)\n",
    "\n",
    ">[java nio原理和它的优点](http://blog.csdn.net/u012684933/article/details/49682649)"
   ]
  }
 ],
 "metadata": {
  "kernelspec": {
   "display_name": "Python 2",
   "language": "python",
   "name": "python2"
  },
  "language_info": {
   "codemirror_mode": {
    "name": "ipython",
    "version": 2
   },
   "file_extension": ".py",
   "mimetype": "text/x-python",
   "name": "python",
   "nbconvert_exporter": "python",
   "pygments_lexer": "ipython2",
   "version": "2.7.13"
  }
 },
 "nbformat": 4,
 "nbformat_minor": 2
}
